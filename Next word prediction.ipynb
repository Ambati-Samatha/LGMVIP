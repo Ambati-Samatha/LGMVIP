{
 "cells": [
  {
   "cell_type": "markdown",
   "id": "ae2cb820",
   "metadata": {},
   "source": [
    "# Import Required Libraries "
   ]
  },
  {
   "cell_type": "code",
   "execution_count": 49,
   "id": "1b533378",
   "metadata": {},
   "outputs": [],
   "source": [
    "# import numpy as np\n",
    "import tensorflow as tf\n",
    "from nltk.tokenize import RegexpTokenizer\n",
    "from keras.models import Sequential, load_model\n",
    "from keras.layers import LSTM, Embedding\n",
    "from keras.layers import Dense, Activation\n",
    "from tensorflow.keras.preprocessing.sequence import pad_sequences\n",
    "from tensorflow.keras.preprocessing.text import one_hot\n",
    "from keras.optimizers import RMSprop\n",
    "import matplotlib.pyplot as plt\n",
    "import pickle\n",
    "import heapq\n",
    "import warnings\n",
    "warnings.filterwarnings(\"ignore\")"
   ]
  },
  {
   "cell_type": "markdown",
   "id": "bf5aa5f3",
   "metadata": {},
   "source": [
    "# Read Data"
   ]
  },
  {
   "cell_type": "code",
   "execution_count": 34,
   "id": "fe13ffcd",
   "metadata": {},
   "outputs": [
    {
     "name": "stdout",
     "output_type": "stream",
     "text": [
      "corpus length: 581887\n"
     ]
    }
   ],
   "source": [
    "path = 'C:/Users/Samatha/Downloads/data.txt'\n",
    "text = open(path, encoding='utf-8').read().lower()\n",
    "print('corpus length:', len(text))"
   ]
  },
  {
   "cell_type": "markdown",
   "id": "0e16f299",
   "metadata": {},
   "source": [
    "# Tokenization"
   ]
  },
  {
   "cell_type": "code",
   "execution_count": 35,
   "id": "ece1059e",
   "metadata": {},
   "outputs": [],
   "source": [
    "tokenizer = RegexpTokenizer(r'\\w+')\n",
    "words = tokenizer.tokenize(text)\n",
    "words = [word for word in words if \"_\" not in word]"
   ]
  },
  {
   "cell_type": "markdown",
   "id": "a546bc61",
   "metadata": {},
   "source": [
    "# Feature Engineering"
   ]
  },
  {
   "cell_type": "code",
   "execution_count": 36,
   "id": "525a312d",
   "metadata": {},
   "outputs": [],
   "source": [
    "unique_words = np.unique(words)\n",
    "unique_word_index = dict((c, i) for i, c in enumerate(unique_words))"
   ]
  },
  {
   "cell_type": "code",
   "execution_count": 37,
   "id": "00514d28",
   "metadata": {},
   "outputs": [
    {
     "name": "stdout",
     "output_type": "stream",
     "text": [
      "['project', 'gutenberg', 's', 'the', 'adventures']\n",
      "of\n"
     ]
    }
   ],
   "source": [
    "WORD_LENGTH = 5\n",
    "prev_words = []\n",
    "next_words = []\n",
    "for i in range(len(words) - WORD_LENGTH):\n",
    "    prev_words.append(words[i:i + WORD_LENGTH])\n",
    "    next_words.append(words[i + WORD_LENGTH])\n",
    "print(prev_words[0])\n",
    "print(next_words[0])"
   ]
  },
  {
   "cell_type": "code",
   "execution_count": 38,
   "id": "7d4326c3",
   "metadata": {},
   "outputs": [],
   "source": [
    "X = np.zeros((len(prev_words), WORD_LENGTH, len(unique_words)), dtype=bool)\n",
    "Y = np.zeros((len(next_words), len(unique_words)), dtype=bool)\n",
    "for i, each_words in enumerate(prev_words):\n",
    "    for j, each_word in enumerate(each_words):\n",
    "        X[i, j, unique_word_index[each_word]] = 1\n",
    "    Y[i, unique_word_index[next_words[i]]] = 1"
   ]
  },
  {
   "cell_type": "markdown",
   "id": "a01431a0",
   "metadata": {},
   "source": [
    "# Build Model"
   ]
  },
  {
   "cell_type": "code",
   "execution_count": 39,
   "id": "b22af8a1",
   "metadata": {},
   "outputs": [],
   "source": [
    "model = Sequential()\n",
    "model.add(LSTM(128, input_shape=(WORD_LENGTH, len(unique_words))))\n",
    "model.add(Dense(len(unique_words)))\n",
    "model.add(Activation('softmax'))"
   ]
  },
  {
   "cell_type": "markdown",
   "id": "f45c5982",
   "metadata": {},
   "source": [
    "# Training Model"
   ]
  },
  {
   "cell_type": "code",
   "execution_count": 40,
   "id": "04f914b4",
   "metadata": {},
   "outputs": [
    {
     "name": "stderr",
     "output_type": "stream",
     "text": [
      "WARNING:absl:`lr` is deprecated in Keras optimizer, please use `learning_rate` or use the legacy optimizer, e.g.,tf.keras.optimizers.legacy.RMSprop.\n"
     ]
    },
    {
     "name": "stdout",
     "output_type": "stream",
     "text": [
      "Epoch 1/20\n",
      "810/810 [==============================] - 187s 226ms/step - loss: 6.6946 - accuracy: 0.0528 - val_loss: 7.2538 - val_accuracy: 0.0539\n",
      "Epoch 2/20\n",
      "810/810 [==============================] - 155s 191ms/step - loss: 6.4777 - accuracy: 0.0531 - val_loss: 7.2746 - val_accuracy: 0.0539\n",
      "Epoch 3/20\n",
      "810/810 [==============================] - 152s 188ms/step - loss: 6.4370 - accuracy: 0.0533 - val_loss: 7.1997 - val_accuracy: 0.0539\n",
      "Epoch 4/20\n",
      "810/810 [==============================] - 153s 189ms/step - loss: 6.3763 - accuracy: 0.0617 - val_loss: 7.1585 - val_accuracy: 0.0645\n",
      "Epoch 5/20\n",
      "810/810 [==============================] - 155s 191ms/step - loss: 6.2904 - accuracy: 0.0707 - val_loss: 7.1035 - val_accuracy: 0.0726\n",
      "Epoch 6/20\n",
      "810/810 [==============================] - 150s 185ms/step - loss: 6.2019 - accuracy: 0.0798 - val_loss: 7.0328 - val_accuracy: 0.0751\n",
      "Epoch 7/20\n",
      "810/810 [==============================] - 151s 186ms/step - loss: 6.1279 - accuracy: 0.0872 - val_loss: 6.9834 - val_accuracy: 0.0786\n",
      "Epoch 8/20\n",
      "810/810 [==============================] - 152s 187ms/step - loss: 6.0701 - accuracy: 0.0924 - val_loss: 6.9616 - val_accuracy: 0.0819\n",
      "Epoch 9/20\n",
      "810/810 [==============================] - 156s 192ms/step - loss: 6.0229 - accuracy: 0.0973 - val_loss: 6.9665 - val_accuracy: 0.0808\n",
      "Epoch 10/20\n",
      "810/810 [==============================] - 175s 216ms/step - loss: 5.9785 - accuracy: 0.1008 - val_loss: 6.9115 - val_accuracy: 0.0832\n",
      "Epoch 11/20\n",
      "810/810 [==============================] - 154s 191ms/step - loss: 5.9357 - accuracy: 0.1055 - val_loss: 6.9404 - val_accuracy: 0.0748\n",
      "Epoch 12/20\n",
      "810/810 [==============================] - 159s 197ms/step - loss: 5.8926 - accuracy: 0.1091 - val_loss: 6.8645 - val_accuracy: 0.0883\n",
      "Epoch 13/20\n",
      "810/810 [==============================] - 147s 181ms/step - loss: 5.8525 - accuracy: 0.1132 - val_loss: 6.8557 - val_accuracy: 0.0927\n",
      "Epoch 14/20\n",
      "810/810 [==============================] - 155s 192ms/step - loss: 5.8157 - accuracy: 0.1157 - val_loss: 6.8300 - val_accuracy: 0.0944\n",
      "Epoch 15/20\n",
      "810/810 [==============================] - 167s 206ms/step - loss: 5.7765 - accuracy: 0.1187 - val_loss: 6.8340 - val_accuracy: 0.0911\n",
      "Epoch 16/20\n",
      "810/810 [==============================] - 157s 193ms/step - loss: 5.7420 - accuracy: 0.1212 - val_loss: 6.8037 - val_accuracy: 0.0883\n",
      "Epoch 17/20\n",
      "810/810 [==============================] - 157s 194ms/step - loss: 5.7081 - accuracy: 0.1231 - val_loss: 6.8129 - val_accuracy: 0.0931\n",
      "Epoch 18/20\n",
      "810/810 [==============================] - 154s 190ms/step - loss: 5.6749 - accuracy: 0.1254 - val_loss: 6.7823 - val_accuracy: 0.0874\n",
      "Epoch 19/20\n",
      "810/810 [==============================] - 151s 186ms/step - loss: 5.6409 - accuracy: 0.1277 - val_loss: 6.7668 - val_accuracy: 0.0949\n",
      "Epoch 20/20\n",
      "810/810 [==============================] - 151s 187ms/step - loss: 5.6065 - accuracy: 0.1300 - val_loss: 6.7955 - val_accuracy: 0.0937\n"
     ]
    }
   ],
   "source": [
    "optimizer = RMSprop(lr=0.01)\n",
    "model.compile(loss='categorical_crossentropy', optimizer=optimizer, metrics=['accuracy'])\n",
    "history = model.fit(X, Y, validation_split=0.05, batch_size=128, epochs=20, shuffle=True).history"
   ]
  },
  {
   "cell_type": "code",
   "execution_count": 41,
   "id": "cf3d5aee",
   "metadata": {},
   "outputs": [],
   "source": [
    "model.save('keras_next_word_model.h5')\n",
    "pickle.dump(history, open(\"history.p\", \"wb\"))\n",
    "model = load_model('keras_next_word_model.h5')\n",
    "history = pickle.load(open(\"history.p\", \"rb\"))"
   ]
  },
  {
   "cell_type": "markdown",
   "id": "52c7f135",
   "metadata": {},
   "source": [
    "# Evaluating the Next Word Prediction Model"
   ]
  },
  {
   "cell_type": "code",
   "execution_count": 42,
   "id": "c73719a2",
   "metadata": {},
   "outputs": [
    {
     "data": {
      "text/plain": [
       "<matplotlib.legend.Legend at 0x1346900ffa0>"
      ]
     },
     "execution_count": 42,
     "metadata": {},
     "output_type": "execute_result"
    },
    {
     "data": {
      "image/png": "[encoded data removed]",
      "text/plain": [
       "<Figure size 640x480 with 1 Axes>"
      ]
     },
     "metadata": {},
     "output_type": "display_data"
    }
   ],
   "source": [
    "plt.plot(history['accuracy'])\n",
    "plt.plot(history['val_accuracy'])\n",
    "plt.title('model accuracy')\n",
    "plt.ylabel('accuracy')\n",
    "plt.xlabel('epoch')\n",
    "plt.legend(['train', 'test'], loc='upper left')"
   ]
  },
  {
   "cell_type": "code",
   "execution_count": 43,
   "id": "820bff13",
   "metadata": {},
   "outputs": [
    {
     "data": {
      "text/plain": [
       "<matplotlib.legend.Legend at 0x13468b78460>"
      ]
     },
     "execution_count": 43,
     "metadata": {},
     "output_type": "execute_result"
    },
    {
     "data": {
      "image/png": "[encoded data removed]",
      "text/plain": [
       "<Figure size 640x480 with 1 Axes>"
      ]
     },
     "metadata": {},
     "output_type": "display_data"
    }
   ],
   "source": [
    "plt.plot(history['loss'])\n",
    "plt.plot(history['val_loss'])\n",
    "plt.title('model loss')\n",
    "plt.ylabel('loss')\n",
    "plt.xlabel('epoch')\n",
    "plt.legend(['train', 'test'], loc='upper left') "
   ]
  },
  {
   "cell_type": "markdown",
   "id": "bb829c9f",
   "metadata": {},
   "source": [
    "# Test Model"
   ]
  },
  {
   "cell_type": "code",
   "execution_count": 44,
   "id": "86f1ea56",
   "metadata": {},
   "outputs": [],
   "source": [
    "texts = [\n",
    "    \"It is not a lack\",\n",
    "    \"That which does not kill\",\n",
    "    \"I not upset that you\",\n",
    "    \"And those who were seen\",\n",
    "    \"It is hard enough to\",\n",
    "    \"To Sherlock Holmes she is\",\n",
    "    \"They were admirable things for\"\n",
    "]\n",
    "     "
   ]
  },
  {
   "cell_type": "code",
   "execution_count": 45,
   "id": "3d2b8dfb",
   "metadata": {},
   "outputs": [],
   "source": [
    "def predict_next_word(input_text, n_best):\n",
    "    input_text = input_text.lower()\n",
    "    X = np.zeros((1, WORD_LENGTH, len(unique_words)))\n",
    "    for i, word in enumerate(input_text.split()):\n",
    "        X[0, i, unique_word_index[word]] = 1\n",
    "        \n",
    "    predictions = model.predict(X)[0]\n",
    "    return [unique_words[idx] for idx in np.argpartition(predictions, -n_best)[-n_best:]]"
   ]
  },
  {
   "cell_type": "code",
   "execution_count": 46,
   "id": "3ac1b7fe",
   "metadata": {},
   "outputs": [
    {
     "name": "stdout",
     "output_type": "stream",
     "text": [
      "1/1 [==============================] - 1s 1s/step\n"
     ]
    }
   ],
   "source": [
    "possible = predict_next_word(\"I will have to look\", 5)"
   ]
  },
  {
   "cell_type": "code",
   "execution_count": 47,
   "id": "8bb414b5",
   "metadata": {},
   "outputs": [
    {
     "data": {
      "text/plain": [
       "['a', 'and', 'that', 'to', 'the']"
      ]
     },
     "execution_count": 47,
     "metadata": {},
     "output_type": "execute_result"
    }
   ],
   "source": [
    "possible"
   ]
  },
  {
   "cell_type": "code",
   "execution_count": 48,
   "id": "63671efc",
   "metadata": {},
   "outputs": [
    {
     "name": "stdout",
     "output_type": "stream",
     "text": [
      "1/1 [==============================] - 0s 38ms/step\n",
      "['which', 'but', 'i', 'that', 'for', 'man', 'and', 'in', 'to', 'of']\n",
      "1/1 [==============================] - 0s 32ms/step\n",
      "['at', 'my', 'for', 'it', 'and', 'the', 'in', 'that', 'a', 'to']\n",
      "1/1 [==============================] - 0s 34ms/step\n",
      "['must', 'would', 'may', 'can', 'were', 'could', 'will', 'should', 'are', 'have']\n",
      "1/1 [==============================] - 0s 33ms/step\n",
      "['by', 'from', 'with', 'in', 'and', 'a', 'of', 'to', 'the', 'upon']\n",
      "1/1 [==============================] - 0s 31ms/step\n",
      "['have', 'him', 'see', 'a', 'you', 'do', 'my', 'be', 'me', 'the']\n",
      "1/1 [==============================] - 0s 61ms/step\n",
      "['very', 'at', 'so', 'his', 'not', 'no', 'to', 'a', 'in', 'the']\n",
      "1/1 [==============================] - 0s 47ms/step\n",
      "['you', 'some', 'him', 'her', 'it', 'his', 'a', 'me', 'my', 'the']\n"
     ]
    }
   ],
   "source": [
    "for text in texts:\n",
    "    print(predict_next_word(text, 10))"
   ]
  }
 ],
 "metadata": {
  "kernelspec": {
   "display_name": "Python 3 (ipykernel)",
   "language": "python",
   "name": "python3"
  },
  "language_info": {
   "codemirror_mode": {
    "name": "ipython",
    "version": 3
   },
   "file_extension": ".py",
   "mimetype": "text/x-python",
   "name": "python",
   "nbconvert_exporter": "python",
   "pygments_lexer": "ipython3",
   "version": "3.10.9"
  }
 },
 "nbformat": 4,
 "nbformat_minor": 5
}
